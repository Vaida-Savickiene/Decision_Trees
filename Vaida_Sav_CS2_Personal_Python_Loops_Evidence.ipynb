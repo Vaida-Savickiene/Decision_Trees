{
  "nbformat": 4,
  "nbformat_minor": 0,
  "metadata": {
    "colab": {
      "name": "Vaida_Sav_CS2_Personal_Python_Loops_Evidence.ipynb",
      "provenance": [],
      "collapsed_sections": [],
      "toc_visible": true,
      "authorship_tag": "ABX9TyMq6yNSc/PeqMkk4ZU14Oon"
    },
    "kernelspec": {
      "name": "python3",
      "display_name": "Python 3"
    },
    "language_info": {
      "name": "python"
    }
  },
  "cells": [
    {
      "cell_type": "markdown",
      "metadata": {
        "id": "9zN1C3q4oLAj"
      },
      "source": [
        "# The objective of this script\n",
        "To develop my understanding of loops in Python by writing a script to calculate the first 10 prime numbers."
      ]
    },
    {
      "cell_type": "markdown",
      "metadata": {
        "id": "rwQYAH93pSSO"
      },
      "source": [
        "# Planing stage\n",
        "1.   Find the definition of a prime number (Wiki?)\n",
        "2.   Find an example of a generic loop in Python\n",
        "3.   Write a python script (THE SOLUTION)\n",
        "\n"
      ]
    },
    {
      "cell_type": "markdown",
      "metadata": {
        "id": "eDbVNlmNqUAv"
      },
      "source": [
        "## 1. The definition of a prime number\n",
        "A prime number is a natural number greater than 1 that is not a product of two smaller natural numbers. [Source: Wiki \"Prime number\"](https://en.wikipedia.org/wiki/Prime_number)\n",
        "\n",
        "From Wikipedia: \"a simple but slow method of checking the primality of a given number *n*, called trial division, tests whether *n* is a multiple of any integer between 2 and *sqrt(n)*\". \n",
        "\n",
        "As the objective is to find the first 10 prime numbers only, I chose the simplicity of the solution over the speed (performance) of the script. Therefore, the script below cannot be used for generalising prime number discovery.\n",
        "\n"
      ]
    },
    {
      "cell_type": "markdown",
      "metadata": {
        "id": "gjeFLLLd5r6q"
      },
      "source": [
        "## 2. Loops in Python\n",
        "The w3schools website examples for the IF...ELSE logic, FOR Loops, and WHILE loops\n",
        "\n",
        "*   With the while loop we can execute a set of statements as long as a condition is true.\n",
        "*   The while loop requires relevant variables to be ready, in this example we need to define an indexing variable, i, which we set to 1.\n",
        "*   With the break statement we can stop the loop even if the while condition is true\n",
        "*   A for loop is used for iterating over a sequence (that is either a list, a tuple, a dictionary, a set, or a string).\n",
        "*   A nested loop is a loop inside a loop. The \"inner loop\" will be executed one time for each iteration of the \"outer loop\"\n",
        "\n",
        "\n",
        "\n",
        "\n"
      ]
    },
    {
      "cell_type": "code",
      "metadata": {
        "id": "toBe54JFDXGJ"
      },
      "source": [
        "# IF... THEN Example\n",
        "# a = 200\n",
        "# b = 33\n",
        "# if b > a:\n",
        "#   print(\"b is greater than a\")\n",
        "# elif a == b:\n",
        "#   print(\"a and b are equal\")\n",
        "# else:\n",
        "#   print(\"a is greater than b\")"
      ],
      "execution_count": null,
      "outputs": []
    },
    {
      "cell_type": "code",
      "metadata": {
        "id": "cD0XF-sXn3Xf"
      },
      "source": [
        "# FOR Loop Example\n",
        "# fruits = [\"apple\", \"banana\", \"cherry\"]\n",
        "# for x in fruits:\n",
        "#   print(x)\n",
        "#   if x == \"banana\":\n",
        "#     break"
      ],
      "execution_count": null,
      "outputs": []
    },
    {
      "cell_type": "code",
      "metadata": {
        "id": "eSjt5wlZD78_"
      },
      "source": [
        "# WHILE Loop Example\n",
        "# i = 1\n",
        "# while i < 6:\n",
        "#   print(i)\n",
        "#   i += 1"
      ],
      "execution_count": null,
      "outputs": []
    },
    {
      "cell_type": "code",
      "metadata": {
        "id": "QqyN5s1CFg1i"
      },
      "source": [
        "# Nested Loop Example\n",
        "# adj = [\"red\", \"big\", \"tasty\"]\n",
        "# fruits = [\"apple\", \"banana\", \"cherry\"]\n",
        "\n",
        "# for x in adj:\n",
        "#   for y in fruits:\n",
        "#     print(x, y)"
      ],
      "execution_count": null,
      "outputs": []
    },
    {
      "cell_type": "markdown",
      "metadata": {
        "id": "Jir_-iY16dJJ"
      },
      "source": [
        "# 3. Python script (THE SOLUTION)\n",
        "\n",
        "My program counts how many factors a number has\n",
        "* If the number of factors is 2, it is a prime number as it is only divisible by 1 and itself\n",
        "* If the number of factors is greater than 2, it is a composite number"
      ]
    },
    {
      "cell_type": "code",
      "metadata": {
        "colab": {
          "base_uri": "https://localhost:8080/"
        },
        "id": "Ows1MOnskFsl",
        "outputId": "e71ca215-89f0-471a-e7cf-3c0d5a0f3db8"
      },
      "source": [
        "# PART 1: A function to calculate how many factors a number has\n",
        "def get_factors(n):\n",
        "    factors = [] # start with an empty list\n",
        "    for i in range(1, n+1):\n",
        "        if n % i == 0: # TRUE if a number can be divided a number without a remainder\n",
        "            factors.append(i) # add all factors to the list\n",
        "    return len(factors) # returns the count of items in the list\n",
        "\n",
        "# PART 2: check if a number is a prime number\n",
        "prime_counter = 0\n",
        "for j in range(1, 100): # 100 here is a hard-coded upper limit\n",
        "  answer = get_factors(j)\n",
        "  if answer == 1:\n",
        "    print(\"Number 1 is not a prime number because it can only be divided by itself\")\n",
        "  elif answer == 2:\n",
        "    prime_counter = prime_counter + 1\n",
        "    print(f\"{prime_counter}: {j} is a prime number\")\n",
        "    if prime_counter > 9: # this value needs to be 9 and not 10 because it is set to 0 at the start\n",
        "      break\n",
        "  else:\n",
        "    i += i\n",
        "  "
      ],
      "execution_count": 232,
      "outputs": [
        {
          "output_type": "stream",
          "name": "stdout",
          "text": [
            "Number 1 is not a prime number because it can only be divided by itself\n",
            "1: 2 is a prime number\n",
            "2: 3 is a prime number\n",
            "3: 5 is a prime number\n",
            "4: 7 is a prime number\n",
            "5: 11 is a prime number\n",
            "6: 13 is a prime number\n",
            "7: 17 is a prime number\n",
            "8: 19 is a prime number\n",
            "9: 23 is a prime number\n",
            "10: 29 is a prime number\n"
          ]
        }
      ]
    }
  ]
}